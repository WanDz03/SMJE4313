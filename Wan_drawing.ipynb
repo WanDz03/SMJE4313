{
  "nbformat": 4,
  "nbformat_minor": 0,
  "metadata": {
    "colab": {
      "provenance": [],
      "include_colab_link": true
    },
    "kernelspec": {
      "name": "python3",
      "display_name": "Python 3"
    }
  },
  "cells": [
    {
      "cell_type": "markdown",
      "metadata": {
        "id": "view-in-github",
        "colab_type": "text"
      },
      "source": [
        "<a href=\"https://colab.research.google.com/github/WanDz03/SMJE4313/blob/main/Wan_drawing.ipynb\" target=\"_parent\"><img src=\"https://colab.research.google.com/assets/colab-badge.svg\" alt=\"Open In Colab\"/></a>"
      ]
    },
    {
      "cell_type": "markdown",
      "metadata": {
        "id": "FPR2lVZyVYRs"
      },
      "source": [
        "## **In this code, we’ll re- view the three most basic methods to draw shapes: cv2. line, cv2.rectangle, and cv2.circle.**\n",
        "\n",
        "First we need to mount our code with google drive."
      ]
    },
    {
      "cell_type": "code",
      "metadata": {
        "id": "0yRHInP7uJvA"
      },
      "source": [
        "# To mount code with google drive\n",
        "from google.colab import drive\n",
        "drive.mount('/content/drive')"
      ],
      "execution_count": null,
      "outputs": []
    },
    {
      "cell_type": "markdown",
      "metadata": {
        "id": "gR5s89lMWp_I"
      },
      "source": [
        "Import all the package that we will use for the code."
      ]
    },
    {
      "cell_type": "code",
      "metadata": {
        "id": "oihWlnHD0BYz"
      },
      "source": [
        "# Import the necessary packages\n",
        "import numpy as np\n",
        "import cv2\n",
        "from google.colab.patches import cv2_imshow"
      ],
      "execution_count": null,
      "outputs": []
    },
    {
      "cell_type": "markdown",
      "metadata": {
        "id": "1bhVJg0WW8WA"
      },
      "source": [
        "Initialize our canvas as a 300x300 with 3 channels, Red, Green, and Blue, with a black background"
      ]
    },
    {
      "cell_type": "code",
      "metadata": {
        "id": "t01pnO290BkR"
      },
      "source": [
        "# Import the necessary packages\n",
        "import numpy as np\n",
        "import cv2\n",
        "from google.colab.patches import cv2_imshow\n",
        "#??? canvas = np.zeros((255, 255, 3), dtype = \"uint8\")\n",
        "canvas = np.zeros((300, 300, 3), dtype = \"uint8\")     \n"
      ],
      "execution_count": null,
      "outputs": []
    },
    {
      "cell_type": "markdown",
      "metadata": {
        "id": "I4t7XmVgXBy4"
      },
      "source": [
        "**Draw Line**\n",
        "\n",
        "The ﬁrst thing we do on Line 3 is deﬁne a tuple used to represent the color “green”. Then, we draw a green line from point (0, 0) (the top-left corner of the image) to point (300, 300), the bottom-right corner of the image on Line 4.\n",
        "\n",
        "Lines 5 show our image."
      ]
    },
    {
      "cell_type": "code",
      "metadata": {
        "id": "_eURDVGj0BtS"
      },
      "source": [
        "# Task 1\n",
        "# Draw a green line from the top-left corner of our canvas\n",
        "# to the bottom-right :\n",
        "# Import the necessary packages\n",
        "import numpy as np\n",
        "import cv2\n",
        "from google.colab.patches import cv2_imshow\n",
        "canvas = np.zeros((300, 300, 3), dtype = \"uint8\")\n",
        "start_point = (0, 0)\n",
        "end_point = (300, 300)\n",
        "colour = (0, 255, 0 )\n",
        "\n",
        "image = cv2.line(canvas, start_point, end_point, colour)\n",
        "cv2_imshow(image)"
      ],
      "execution_count": null,
      "outputs": []
    },
    {
      "cell_type": "markdown",
      "metadata": {
        "id": "YKr-AtWIXbJK"
      },
      "source": [
        "**Draw Line**\n",
        "\n",
        "On Lines 3-5 we deﬁne a red color as a tuple (again, in BGR rather than RGB format). We then draw a red line from the top-right corner of the image to the bottom left. The last parameter to the method controls the thickness of the line that we decide to make the thickness 3 pixels. Then, show our image."
      ]
    },
    {
      "cell_type": "code",
      "metadata": {
        "id": "VCByrMPA7IGr"
      },
      "source": [],
      "execution_count": null,
      "outputs": []
    },
    {
      "cell_type": "code",
      "metadata": {
        "id": "CoXsC9Zn0Byz"
      },
      "source": [
        "# Task 2\n",
        "# Now, draw a 3 pixel thick red line from the top-right\n",
        "# corner to the bottom-left here :\n",
        "start_point2 = (300, 0)\n",
        "end_point2 = (0, 300)\n",
        "colour2 = (0, 0, 255)\n",
        "thickness = 3\n",
        "canvas2 = cv2.line(image, start_point2, end_point2, colour2, thickness)\n",
        "cv2_imshow(canvas2)"
      ],
      "execution_count": null,
      "outputs": []
    },
    {
      "cell_type": "markdown",
      "metadata": {
        "id": "6mhggxIWX71X"
      },
      "source": [
        "**Draw Rectangle**\n",
        "\n",
        "On Line 3 we make use of the cv2.rectangle method. The signature of this method is identical to the cv2.line method above, but let’s explore each argument anyway. \n",
        "\n",
        "The ﬁrst argument is the image we want to draw our rectangle on. We want to draw on our canvas, so we pass it into the method. The second argument is the starting (x, y) position of our rectangle – here, we are starting our rectangle at point (10, 10). Then, we must provide an ending (x, y) point for the rectangle. We decide to end our rectangle at (60, 60), deﬁning a region of 50 x 50 pixels. Finally, the last argument is the color of the rect×angle we want to draw."
      ]
    },
    {
      "cell_type": "code",
      "metadata": {
        "id": "JjqiA4lC0B5v"
      },
      "source": [
        "# Task 3\n",
        "# Draw a green 50x50 pixel square, starting at 10x10 and\n",
        "# ending at 60x60 here :\n",
        "start_point3 = (10, 10)\n",
        "end_point3 = (60, 60)\n",
        "colour3 = (0, 255, 0)\n",
        "canvas3 = cv2.rectangle(canvas2, start_point3, end_point3, colour3)\n",
        "cv2_imshow(canvas3)"
      ],
      "execution_count": null,
      "outputs": []
    },
    {
      "cell_type": "markdown",
      "metadata": {
        "id": "P2ejfn1_YqHK"
      },
      "source": [
        "**Draw Rectangle**\n",
        "\n",
        "Just as we can control the thickness of a line, we can also control the thickness of a rectangle. Line 3 provides one added argument: the thickness. Here, we draw a red rectangle that is 5 pixels thick, starting from point (50, 200) and ending at (200, 225)."
      ]
    },
    {
      "cell_type": "code",
      "metadata": {
        "id": "cbtbt6wJ0O3y"
      },
      "source": [
        "# Task 4\n",
        "# Draw another rectangle, make it red and 5 pixels thick here :\n",
        "start_point4 = (50, 200)\n",
        "end_point4 = (200, 225)\n",
        "colour4 = (0, 0, 255)\n",
        "thickness2 = 5\n",
        "canvas4 = cv2.rectangle(canvas3, start_point4, end_point4, colour4, thickness2)\n",
        "cv2_imshow(canvas4)"
      ],
      "execution_count": null,
      "outputs": []
    },
    {
      "cell_type": "markdown",
      "metadata": {
        "id": "l79JvSVKZAVA"
      },
      "source": [
        "**Draw Rectangle**\n",
        "\n",
        "Line 3 demonstrates how to draw a rectangle of a solid color. We draw a blue rectangle, starting from (200, 50) and ending at (225, 125). By specifying -1 as the thickness, our rectangle is drawn as a solid blue."
      ]
    },
    {
      "cell_type": "code",
      "metadata": {
        "id": "ZPu8Y21W0O-W"
      },
      "source": [
        "# Task 5\n",
        "# Draw one rectangle with blue and filled in:\n",
        "start_point5 = (200, 50)\n",
        "end_point5 = (225, 125)\n",
        "colour5 = (255, 0, 0)\n",
        "thickness3 = -1\n",
        "canvas5 = cv2.rectangle(canvas4, start_point5, end_point5, colour5, thickness3)\n",
        "cv2_imshow(canvas5)"
      ],
      "execution_count": null,
      "outputs": []
    },
    {
      "cell_type": "markdown",
      "metadata": {
        "id": "zbXB0vhVZLuo"
      },
      "source": [
        "**Draw Circle**\n",
        "\n",
        "On Line 4 we re-initialize our canvas to be blank. The rectangles are gone! We need a fresh canvas to draw our circles. \n",
        "\n",
        "Line 5 calculates two variables: centerX and centerY. These two variables represent the (x, y) coordinates of the center of the image. We calculate the center by examining the shape of our NumPy array, and then dividing by two. The height of the image can be found in canvas.shape[0] and the width in canvas.shape[1]. Finally, Line 6 deﬁnes a white pixel.\n",
        "\n",
        "On Line 8 we loop over a number of radius values, starting from 0 and ending at 150 (since the range function is exclusive), incrementing by 25 at each step.\n",
        "\n",
        "Line 9 handles the actual drawing of the circle. The ﬁrst parameter is our canvas, the image we want to draw the circle on. We then need to supply the point in which our circle will be drawn around. We pass in a tuple of (centerX, centerY) so that our circles will be centered at the middle of the image. The third argument is the radius of the circle we wish to draw. Finally, we pass in the color of our circle, in this case, white.\n",
        "\n",
        "Lines 11 will show our image."
      ]
    },
    {
      "cell_type": "code",
      "metadata": {
        "id": "-GA9Dj6k0TCY"
      },
      "source": [
        "# Reset our canvas and draw a white circle at the center\n",
        "# of the canvas with increasing radii - from 25 pixels to\n",
        "# 150 pixels\n",
        "canvas = np.zeros((300, 300, 3), dtype = \"uint8\")\n",
        "(centerX, centerY) = (canvas.shape[1] // 2, canvas.shape[0] // 2)\n",
        "white = (255, 255, 255)\n",
        "\n",
        "for r in range(0, 175, 25):\n",
        "\tcv2.circle(canvas, (centerX, centerY), r, white)\n",
        "\n",
        "cv2_imshow(canvas)"
      ],
      "execution_count": null,
      "outputs": []
    },
    {
      "cell_type": "markdown",
      "metadata": {
        "id": "vevyur68bkMM"
      },
      "source": [
        "**Draw Abstract**\n",
        "\n",
        "Our code starts off on Line 2 with more looping. This time we aren’t looping over the size of our radii – we are instead going to draw 25 random circles, making use of NumPy’s random number capabilities through the np.random. randint function.\n",
        "\n",
        "In order to draw a random circle, we need to generate three values: the radius of the circle, the color of the circle, and the pt – the (x, y) coordinate of where the circle will be drawn.\n",
        "\n",
        "We generate a radius value in the range [5, 200) on Line 6. This value controls how large our circle will be.\n",
        "\n",
        "Next, we randomly generate a color on Line 7. As we know, the color of an RGB pixel consists of three values in the range [0, 255]. In order to get three random integers rather than only one integer, we pass the keyword argument size=(3,), instructing NumPy to return a list of three numbers.\n",
        "\n",
        "Finally, we need an (x, y) point to draw our circle. We’ll generate a point in the range [0, 300), again using NumPy’s np.random.randint function.\n",
        "\n",
        "The drawing of our circle then takes place on Line 11, using the radius, color, and pt that we randomly generated. Notice how we use a thickness of -1, so our circles are drawn as a solid color and not just an outline.\n",
        "\n",
        "Line 14 will show the abstracted image."
      ]
    },
    {
      "cell_type": "code",
      "metadata": {
        "id": "OtU5Ih54uF93"
      },
      "source": [
        "# Let's go crazy and draw 25 random circles\n",
        "for i in range(0, 25):\n",
        "\t# randomly generate a radius size between 5 and 200,\n",
        "\t# generate a random color, and then pick a random\n",
        "\t# point on our canvas where the circle will be drawn\n",
        "\tradius = np.random.randint(5, high = 200)\n",
        "\tcolor = np.random.randint(0, high = 256, size = (3,)).tolist()\n",
        "\tpt = np.random.randint(0, high = 300, size = (2,))\n",
        "\n",
        "\t# draw our random circle\n",
        "\tcv2.circle(canvas, tuple(pt), radius, color, -1)\n",
        "\n",
        "# Show our masterpiece\n",
        "cv2_imshow(canvas)"
      ],
      "execution_count": null,
      "outputs": []
    }
  ]
}