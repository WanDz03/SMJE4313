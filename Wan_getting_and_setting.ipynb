{
  "nbformat": 4,
  "nbformat_minor": 0,
  "metadata": {
    "colab": {
      "provenance": [],
      "include_colab_link": true
    },
    "kernelspec": {
      "name": "python3",
      "display_name": "Python 3"
    }
  },
  "cells": [
    {
      "cell_type": "markdown",
      "metadata": {
        "id": "view-in-github",
        "colab_type": "text"
      },
      "source": [
        "<a href=\"https://colab.research.google.com/github/WanDz03/SMJE4313/blob/main/Wan_getting_and_setting.ipynb\" target=\"_parent\"><img src=\"https://colab.research.google.com/assets/colab-badge.svg\" alt=\"Open In Colab\"/></a>"
      ]
    },
    {
      "cell_type": "markdown",
      "metadata": {
        "id": "iX6jxCo1KZJo"
      },
      "source": [
        "## **In this code we are going to review the building blocks of an image. We’ll discuss exactly what a pixel is, how pixels are used to form an image, and then how to access and manipulate pixels in OpenCV.**\n",
        "\n",
        "First we need to mount our code with google drive."
      ]
    },
    {
      "cell_type": "code",
      "metadata": {
        "id": "zorlPytNoaLd"
      },
      "source": [
        "# To mount code with google drive\n",
        "from google.colab import drive\n",
        "drive.mount('/content/drive')"
      ],
      "execution_count": null,
      "outputs": []
    },
    {
      "cell_type": "markdown",
      "metadata": {
        "id": "zxAwTnRAMuUj"
      },
      "source": [
        "Import all the package that we will use for the code."
      ]
    },
    {
      "cell_type": "code",
      "metadata": {
        "id": "9zNz3HEptUrN"
      },
      "source": [
        "# Import the necessary packages\n",
        "from __future__ import print_function\n",
        "import argparse\n",
        "import cv2  #open cv\n",
        "from google.colab.patches import cv2_imshow # render the image"
      ],
      "execution_count": null,
      "outputs": []
    },
    {
      "cell_type": "markdown",
      "metadata": {
        "id": "WrAKerPyMywR"
      },
      "source": [
        "Set the path for the image that we will use for testing the code.\n",
        "\n",
        "When you mount the code, folder **\"drive\"** will appear on the left screen when you click the **\"file\"** symbol. Then you just need to find the image in your drive and right click on that image.\n",
        "\n",
        "A pop up will show some list then just click **\"copy path\"**. After that you just need to paste the path here."
      ]
    },
    {
      "cell_type": "code",
      "metadata": {
        "id": "OxySKjExtVDC"
      },
      "source": [
        "# Construct the argument parser and parse the arguments\n",
        "args = {\n",
        "\t# Task 1\n",
        "\t\"image\": \"/content/drive/My Drive/Colab-Notebooks/IMAGE-PROCESSING/images/flower.jpg\"\n",
        "}"
      ],
      "execution_count": null,
      "outputs": []
    },
    {
      "cell_type": "code",
      "metadata": {
        "id": "p52fuLF4FC7a"
      },
      "source": [
        "print(args)"
      ],
      "execution_count": null,
      "outputs": []
    },
    {
      "cell_type": "markdown",
      "metadata": {
        "id": "fP2JjV50NGJg"
      },
      "source": [
        "Now that we have the path to the image, we can load it off the disk using the cv2.imread function on Line 1. The cv2.imread function returns a NumPy array representing the image.\n",
        "\n",
        "Then, displaying the actual image on our screen. The parameter is a reference to the image we loaded before."
      ]
    },
    {
      "cell_type": "code",
      "metadata": {
        "id": "O8kRI39OtVc7"
      },
      "source": [
        "# Task 2\n",
        "# Load the image and show it here :\n",
        "image = cv2.imread(args[\"image\"])\n",
        "print(\"Image Size: {} pixels\".format(image.shape))\n",
        "print(\"width: {} pixels\".format(image.shape[1]))\n",
        "print(\"height: {} pixels\".format(image.shape[0]))\n",
        "print(\"channels: {}\".format(image.shape[2]))\n",
        "cv2_imshow(image)"
      ],
      "execution_count": null,
      "outputs": []
    },
    {
      "cell_type": "markdown",
      "metadata": {
        "id": "UR8zWpJCNNm4"
      },
      "source": [
        "Note that OpenCV stores RGB channels in reverse order. While we normally think in terms of Red, Green, and Blue, OpenCV actually stores them in the order of Blue, Green, and Red. This is important to note since it could cause some confusion later.\n",
        "\n",
        "On Line 3, we grab the pixel located at (0, 0), the top left corner of the image. This pixel is represented as a tuple. Again, OpenCV stores RGB pixels in reverse order, so when we unpack and access each element in the tuple, we are ac- tually viewing them in BGR order. Then, Line 4 prints out the values of each channel to our console."
      ]
    },
    {
      "cell_type": "code",
      "metadata": {
        "id": "OeJ8N2fBthey"
      },
      "source": [
        "# Images are just NumPy arrays. The top-left pixel can be\n",
        "# found at (0, 0)\n",
        "(b, g, r) = image[150, 150]\n",
        "print(\"Pixel at (150, 150) - Red: {}, Green: {}, Blue: {}\".format(r, g, b))\n"
      ],
      "execution_count": null,
      "outputs": []
    },
    {
      "cell_type": "markdown",
      "metadata": {
        "id": "sn4QJ3TfRaWo"
      },
      "source": [
        "On Line 3 we manipulate the top-left pixel in the image, which is located at coordinate (0, 0) and set it to have a value of (0, 0, 255).\n",
        "\n",
        "After setting the top-left pixel to have a red color on Line 3, we then grab the pixel value and print it back to con- sole on Lines 4 and 5, just to demonstrate that we have indeed successfully changed the color of the pixel."
      ]
    },
    {
      "cell_type": "code",
      "metadata": {
        "id": "YViVUwk7RCg7"
      },
      "source": [
        "# Now, let's change the value of the pixel at (0, 0) and\n",
        "# make it red\n",
        "# Task 3\n",
        "image[700:700+200, 1500:1500+200] = (0, 0, 255)\n",
        "\n",
        "\n",
        "cv2_imshow(image)  \n",
        "(b, g, r) = image[0, 0]\n",
        "print(\"Pixel at (0, 0) - Red: {}, Green: {}, Blue: {}\".format(r, g, b))\n"
      ],
      "execution_count": null,
      "outputs": []
    },
    {
      "cell_type": "markdown",
      "metadata": {
        "id": "Q6526AwjTZz4"
      },
      "source": [
        "On Line 4 we grab a 100 100 pixel region of the image. In fact, this is the top-left co×rner of the image! In order to grab chunks of an image, NumPy expects we provide four indexes:\n",
        "\n",
        "1.   Start y: The ﬁrst value is the starting y coordinate. This is where our array slice will start along the y-axis. In our example above, our slice starts at y = 0.\n",
        "2.   End y: Just as we supplied a starting y value, we must provide an ending y value. Our slice stops along the y-axis when y = 100.\n",
        "3. Start x: The third value we must supply is the starting x coordinate for the slice. In order to grab the top-left region of the image, we start at x = 0.\n",
        "4. End x: Finally, we need to provide an x-axis value for our slice to stop. We stop when x = 100.\n",
        "\n",
        "Once we have extracted the top-left corner of the image, Line 5 shows us the result of the cropping. Notice how our image is just the 100 100 pixel region from the top- left corner of our original i×mage."
      ]
    },
    {
      "cell_type": "code",
      "metadata": {
        "id": "FJXbMLzZtu5s"
      },
      "source": [
        "# Since we are using NumPy arrays, we can apply slicing and\n",
        "# grab large chunks of the image. Let's grab the top-left\n",
        "# corner\n",
        "corner = image[0:100, 0:100]\n",
        "# Task 4\n",
        "# Show slicing image here :\n"
      ],
      "execution_count": null,
      "outputs": []
    },
    {
      "cell_type": "markdown",
      "metadata": {
        "id": "L7lgsqPKUdBU"
      },
      "source": [
        "The last thing we are going to do is use array slices to change the color of a region of pixels. On Line 2, you can see that we are again accessing the top-left corner of the image; however, this time we are setting this region to have a value of (0, 255, 0) (green).\n",
        "\n",
        "Line 5 then show us the results of our work."
      ]
    },
    {
      "cell_type": "code",
      "metadata": {
        "id": "OvzKmMcIoL8a"
      },
      "source": [
        "# Let's make the top-left corner of the image green\n",
        "# Task 5\n",
        "# image[0:100, 0:100] = (\"Assign green color here\")\n",
        "\n",
        "# Show our updated image\n",
        "cv2_imshow(image)"
      ],
      "execution_count": null,
      "outputs": []
    }
  ]
}