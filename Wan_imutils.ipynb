{
  "nbformat": 4,
  "nbformat_minor": 0,
  "metadata": {
    "colab": {
      "provenance": [],
      "include_colab_link": true
    },
    "kernelspec": {
      "name": "python3",
      "display_name": "Python 3"
    }
  },
  "cells": [
    {
      "cell_type": "markdown",
      "metadata": {
        "id": "view-in-github",
        "colab_type": "text"
      },
      "source": [
        "<a href=\"https://colab.research.google.com/github/WanDz03/SMJE4313/blob/main/Wan_imutils.ipynb\" target=\"_parent\"><img src=\"https://colab.research.google.com/assets/colab-badge.svg\" alt=\"Open In Colab\"/></a>"
      ]
    },
    {
      "cell_type": "markdown",
      "metadata": {
        "id": "_8TBVQORdHC4"
      },
      "source": [
        "## **This code will store basic image processing methods that will be use by other code.**\n",
        "\n",
        "First we need to mount our code with google drive."
      ]
    },
    {
      "cell_type": "code",
      "metadata": {
        "id": "jTydNd9MU_7t",
        "colab": {
          "base_uri": "https://localhost:8080/"
        },
        "outputId": "a9ac1fb4-42e5-4441-be0a-b8d9a445a98f"
      },
      "source": [
        "# To mount code with google drive\n",
        "from google.colab import drive\n",
        "drive.mount('/content/drive')"
      ],
      "execution_count": 2,
      "outputs": [
        {
          "output_type": "stream",
          "name": "stdout",
          "text": [
            "Mounted at /content/drive\n"
          ]
        }
      ]
    },
    {
      "cell_type": "markdown",
      "metadata": {
        "id": "LZkDuRo4dcSt"
      },
      "source": [
        "Import all the package that we will use for the code."
      ]
    },
    {
      "cell_type": "code",
      "metadata": {
        "id": "FOzj9IQKFj5L"
      },
      "source": [
        "# Import the necessary packages\n",
        "import numpy as np\n",
        "import cv2"
      ],
      "execution_count": 3,
      "outputs": []
    },
    {
      "cell_type": "markdown",
      "metadata": {
        "id": "YLU4U8mMdvNc"
      },
      "source": [
        "Our translate method takes three parameters: the image we are going to translate, the number of pixels that we are going to shift along the x-axis, and the number of pixels we are going to shift along the y-axis.\n",
        "\n",
        "This method then deﬁnes our translation matrix M on Line 3 and then applies the actual shift on Line 4. Finally, we return the shifted image on Line 7."
      ]
    },
    {
      "cell_type": "code",
      "metadata": {
        "id": "DjG2sjJidgjW"
      },
      "source": [
        "def translate(image, x, y):\n",
        "\t# Define the translation matrix and perform the translation\n",
        "\tM = np.float32([[1, 0, x], [0, 1, y]])\n",
        "\tshifted = cv2.warpAffine(image, M, (image.shape[1], image.shape[0]))\n",
        "\n",
        "\t# Return the translated image\n",
        "\treturn shifted"
      ],
      "execution_count": 4,
      "outputs": []
    },
    {
      "cell_type": "markdown",
      "metadata": {
        "id": "3gtFa82Je6Yk"
      },
      "source": [
        "Our rotatemethod takes four arguments. The ﬁrst is our image. The second is the angle θ in which we want to rotate the image. We provide two optional keyword arguments, center and scale. The center parameter is the point which we wish to rotate our image around. If a value of None is provided, the method automatically determines the center of the image on Lines 7-8. Finally, the scale parameter is used to handle if the size of the image should be changed during the rotation. The scale parameter has a default value of 1.0, implying that no resizing should be done.\n",
        "\n",
        "The actual rotation of the image takes place on Lines 11 and 12, where we construct our rotation matrix M and ap- ply it to the image. Finally, our image is returned on Line 15."
      ]
    },
    {
      "cell_type": "code",
      "metadata": {
        "id": "vqvVvPpodgmN"
      },
      "source": [
        "def rotate(image, angle, center = None, scale = 1.0):\n",
        "\t# Grab the dimensions of the image\n",
        "\t(h, w) = image.shape[:2]\n",
        "\n",
        "\t# If the center is None, initialize it as the center of\n",
        "\t# the image\n",
        "\tif center is None:\n",
        "\t\tcenter = (w // 2, h // 2)\n",
        "\n",
        "\t# Perform the rotation\n",
        "\tM = cv2.getRotationMatrix2D(center, angle, scale)\n",
        "\trotated = cv2.warpAffine(image, M, (w, h))\n",
        "\n",
        "\t# Return the rotated image\n",
        "\treturn rotated"
      ],
      "execution_count": 5,
      "outputs": []
    },
    {
      "cell_type": "markdown",
      "metadata": {
        "id": "7D9rYRqvjmc4"
      },
      "source": [
        "The ﬁrst argument is the image we want to resize. Then, we deﬁne two keyword arguments, width and height. Both of these arguments cannot be None, otherwise we won’t know how to resize the image. We also provide inter, which is our interpolation method and defaults to cv2.INTER_AREA.\n",
        "\n",
        "On Lines 4 and 5, we deﬁne the dimensions of our new, resized image and grab the dimensions of the original image.\n",
        "\n",
        "We perform a quick check on Lines 9-10 to ensure that a numerical value has been provided for either the width or the height.\n",
        "\n",
        "The computation of the ratio and new, resized image dimensions are handled on Lines 13-24, depending on whether we are resizing via width or via height.\n",
        "\n",
        "Line 27 handles the actual resizing of the image, then Line 30 returns our resized image to the user."
      ]
    },
    {
      "cell_type": "code",
      "metadata": {
        "id": "kEhBtsZsdgo1"
      },
      "source": [
        "def resize(image, width = None, height = None, inter = cv2.INTER_AREA):\n",
        "\t# initialize the dimensions of the image to be resized and\n",
        "\t# grab the image size\n",
        "\tdim = None\n",
        "\t(h, w) = image.shape[:2]\n",
        "\n",
        "\t# if both the width and height are None, then return the\n",
        "\t# original image\n",
        "\tif width is None and height is None:\n",
        "\t\treturn image\n",
        "\n",
        "\t# check to see if the width is None\n",
        "\tif width is None:\n",
        "\t\t# calculate the ratio of the height and construct the\n",
        "\t\t# dimensions\n",
        "\t\tr = height / float(h)\n",
        "\t\tdim = (int(w * r), height)\n",
        "\n",
        "\t# otherwise, the height is None\n",
        "\telse:\n",
        "\t\t# calculate the ratio of the width and construct the\n",
        "\t\t# dimensions\n",
        "\t\tr = width / float(w)\n",
        "\t\tdim = (width, int(h * r))\n",
        "\n",
        "\t# resize the image\n",
        "\tresized = cv2.resize(image, dim, interpolation = inter)\n",
        "\n",
        "\t# return the resized image\n",
        "\treturn resized"
      ],
      "execution_count": 6,
      "outputs": []
    }
  ]
}