{
  "nbformat": 4,
  "nbformat_minor": 0,
  "metadata": {
    "colab": {
      "provenance": [],
      "include_colab_link": true
    },
    "kernelspec": {
      "name": "python3",
      "display_name": "Python 3"
    }
  },
  "cells": [
    {
      "cell_type": "markdown",
      "metadata": {
        "id": "view-in-github",
        "colab_type": "text"
      },
      "source": [
        "<a href=\"https://colab.research.google.com/github/WanDz03/SMJE4313/blob/main/Wan_load_display_save.ipynb\" target=\"_parent\"><img src=\"https://colab.research.google.com/assets/colab-badge.svg\" alt=\"Open In Colab\"/></a>"
      ]
    },
    {
      "cell_type": "markdown",
      "metadata": {
        "id": "edBwrmlRGkrN"
      },
      "source": [
        "![alt text](https://drive.google.com/uc?id=1RrRLxNPgdgv7aXJqi2QvQdm7qaSwdEXO)"
      ]
    },
    {
      "cell_type": "markdown",
      "metadata": {
        "id": "NeZDKmEn9zkI"
      },
      "source": [
        "## **In this code we will be writing some simple code to load an image off disk, display it on our screen, and write it to ﬁle in a different format.**\n",
        "\n",
        "First we need to mount our code with google drive."
      ]
    },
    {
      "cell_type": "code",
      "metadata": {
        "id": "mj83LDGReHdG"
      },
      "source": [
        "# To mount code with google drive\n",
        "from google.colab import drive\n",
        "drive.mount('/content/drive')"
      ],
      "execution_count": null,
      "outputs": []
    },
    {
      "cell_type": "markdown",
      "metadata": {
        "id": "owqtfr8XxARU"
      },
      "source": []
    },
    {
      "cell_type": "markdown",
      "metadata": {
        "id": "F3sk5QDK-tV7"
      },
      "source": [
        "Import all the package that we will use for the code."
      ]
    },
    {
      "cell_type": "code",
      "metadata": {
        "id": "ZgQkfrsSARuW"
      },
      "source": [
        "# Import the necessary packages\n",
        "from __future__ import print_function\n",
        "import argparse\n",
        "# TASK 1 - Get your open cv module\n",
        "import cv2\n",
        "from google.colab.patches import cv2_imshow"
      ],
      "execution_count": null,
      "outputs": []
    },
    {
      "cell_type": "code",
      "metadata": {
        "id": "_rAyF_gdnB0w"
      },
      "source": [
        "from google.colab import drive\n",
        "drive.mount('/content/drive')"
      ],
      "execution_count": null,
      "outputs": []
    },
    {
      "cell_type": "code",
      "metadata": {
        "id": "6U-m6tkoIeYv"
      },
      "source": [
        "# check your path\n",
        "!ls /content/drive/My\\ Drive/STUDENT/SMJE4313/bunga.jpg\n"
      ],
      "execution_count": null,
      "outputs": []
    },
    {
      "cell_type": "markdown",
      "metadata": {
        "id": "eJuBLYTO-5FY"
      },
      "source": [
        "Set the path for the image that we will use for testing the code.\n",
        "\n",
        "When you mount the code, folder **\"drive\"** will appear on the left screen when you click the **\"file\"** symbol. Then you just need to find the image in your drive and right click on that image.\n",
        "\n",
        "A pop up will show some list then just click **\"copy path\"**. After that you just need to paste the path here."
      ]
    },
    {
      "cell_type": "code",
      "metadata": {
        "id": "ZZY7mkoTeSrF"
      },
      "source": [
        "# Task 2\n",
        "# Construct the argument parser and parse the arguments\n",
        "args = {\n",
        "\t# Task 2\n",
        "\t\"image\": \"/content/drive/My Drive/STUDENT/SMJE4313/bunga.jpg\"\n",
        "}\n",
        "print(args)\n"
      ],
      "execution_count": null,
      "outputs": []
    },
    {
      "cell_type": "markdown",
      "metadata": {
        "id": "LjQdaF6EHvdI"
      },
      "source": []
    },
    {
      "cell_type": "code",
      "metadata": {
        "id": "WH_gNjCGXOI2"
      },
      "source": [
        "# Task 3 - Load Your Image\n",
        "# Load the image and show some basic information on it\n",
        "image = cv2.imread (args[\"image\"])\n",
        "cv2_imshow (image)\n",
        "print(\"Image Size: {} pixels\".format(image.shape))\n",
        "print(\"width: {} pixels\".format(image.shape[1]))\n",
        "print(\"height: {} pixels\".format(image.shape[0]))\n",
        "print(\"channels: {}\".format(image.shape[2]))\n"
      ],
      "execution_count": null,
      "outputs": []
    },
    {
      "cell_type": "markdown",
      "metadata": {
        "id": "_-PmlAsg_gSh"
      },
      "source": [
        "Now that we have the path to the image, we can load it off the disk using the cv2.imread function on Line 1. The cv2.imread function returns a NumPy array representing the image.\n",
        "\n",
        "Lines 2-3 examine the dimensions of the image. Again, since images are represented as NumPy arrays, we can sim- ply use the shape attribute to examine the width, height, and the number of channels."
      ]
    },
    {
      "cell_type": "markdown",
      "metadata": {
        "id": "R1nThiY6eTg9"
      },
      "source": [
        "# Task 3 - Load Your Image\n",
        "# Load the image and show some basic information on it\n",
        "\n",
        "image = '/content/drive/My Drive/SMJE4313/corona.png'\n",
        "image = cv2.imread(image, cv2.IMREAD_UNCHANGED)\n",
        "cv2_imshow (image)\n",
        "print(\"width: {} pixels\".format(image.shape[1]))\n",
        "print(\"height: {} pixels\".format(image.shape[0]))\n",
        "print(\"channels: {}\".format(image.shape[2]))"
      ]
    },
    {
      "cell_type": "markdown",
      "metadata": {
        "id": "blGpyu0gEA6U"
      },
      "source": [
        "This section handle displaying the actual image on our screen. The parameter is a reference to the image we loaded before."
      ]
    },
    {
      "cell_type": "code",
      "metadata": {
        "id": "Hus6V3r2eYsN"
      },
      "source": [
        "# Show the image and wait for a keypress\n",
        "# Task 4 - Display you the image\n",
        "image [700:700+200, 1500:1500+200] = (0,0,255)\n",
        "cv2_imshow(image)\n",
        "(b,g,r) = image[0,0]\n",
        "print (\"pixel at (0,0) - Red: {}, Green: {}, Blue: {}\".format(r,g,b))\n",
        "cv2.waitKey (0)\n"
      ],
      "execution_count": null,
      "outputs": []
    },
    {
      "cell_type": "code",
      "metadata": {
        "id": "fzjdUg8TCFQx"
      },
      "source": [
        "corner = image [247:470, 261:360]\n",
        "cv2_imshow(corner)\n",
        "#cv2.waitKey (0)"
      ],
      "execution_count": null,
      "outputs": []
    },
    {
      "cell_type": "markdown",
      "metadata": {
        "id": "7r6mxh0mEaap"
      },
      "source": [
        "The last thing we are going to do is write our image to ﬁle in JPG format.\n",
        "\n",
        "All we are doing here is providing the path to the ﬁle (the ﬁrst argument) and then the image we want to save (the second argument)."
      ]
    },
    {
      "cell_type": "code",
      "metadata": {
        "id": "QK9nbv3heY3d"
      },
      "source": [
        "# Task 5 - Save the image on the path you want # Save the image -- OpenCV handles converting filetypes\n",
        "# automatically\n",
        "image[140:180, 270:310] = (255,255,0)\n",
        "image[210:250, 190:230] = (255,255,0)\n",
        "image[210:250, 380:420] = (255,255,0)\n",
        "image[340:380, 180:220] = (255,255,0)\n",
        "image[340:380, 360:400] = (255,255,0)\n",
        "cv2_imshow(image)\n",
        "cv2.imwrite ('/content/drive/My Drive/SMJE4313/bunga.jpg',image)\n"
      ],
      "execution_count": null,
      "outputs": []
    },
    {
      "cell_type": "code",
      "metadata": {
        "id": "tI6WlucFCePs"
      },
      "source": [],
      "execution_count": null,
      "outputs": []
    }
  ]
}